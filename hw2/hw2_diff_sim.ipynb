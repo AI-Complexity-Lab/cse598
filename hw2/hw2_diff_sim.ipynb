{
 "cells": [
  {
   "cell_type": "markdown",
   "metadata": {},
   "source": [
    "# Differentiable Simulator for Multi-particle Dynamics\n",
    "\n",
    "We will use the package PhiFlow (https://tum-pbs.github.io/PhiFlow/) to simulate billiard balls and collisions. Follow the README instructions to correctly install the package."
   ]
  },
  {
   "cell_type": "code",
   "execution_count": 1,
   "metadata": {},
   "outputs": [],
   "source": [
    "from phi.torch.flow import (\n",
    "    Tensor, vec, batch, instance, stack, expand, rename_dims, math,\n",
    "    Sphere, PointCloud, Box, Field, dual, field,\n",
    "    iterate, plot, jit_compile\n",
    ")"
   ]
  },
  {
   "cell_type": "markdown",
   "metadata": {},
   "source": [
    "Let’s create a cue ball and a standard billiard triangle. Our table will have dimensions 1x1."
   ]
  },
  {
   "cell_type": "code",
   "execution_count": null,
   "metadata": {},
   "outputs": [],
   "source": [
    "def create_balls(cue_pos=vec(x=.1, y=.5), billiard_layers=3, radius=0.05):\n",
    "    coords = [cue_pos]\n",
    "    for i in range(billiard_layers):\n",
    "        for j in range(i + 1):\n",
    "            coords.append(vec(x=i * 2 * radius + 0.5, y=j * 2 * radius + 0.5 - i * radius * 0.7))\n",
    "    return Sphere(stack(coords, instance('ball')), radius=radius)\n",
    "\n",
    "domain = Box(x=1, y=1)\n",
    "balls = create_balls(billiard_layers=3, radius=0.05)\n",
    "plot([domain, balls], overlay='list')"
   ]
  },
  {
   "cell_type": "markdown",
   "metadata": {},
   "source": [
    "Next, we define the dynamics consisting of linear movement and collisions. We store the velocities in the `values` of the field. The impact dynamics depend on the relative distances and velocities of the balls, which we get using `math.pairwise_differences`. \n",
    "\n",
    "**Task 1: Implement the Euler integrator**\n",
    "* Use the Euler update for new positions\n",
    "\n",
    "**Task 2: Update the points with the new positions**\n"
   ]
  },
  {
   "cell_type": "code",
   "execution_count": null,
   "metadata": {},
   "outputs": [],
   "source": [
    "def euler(data: Field, dt: float) -> Tensor:\n",
    "    \"\"\" Euler integrator. \"\"\"\n",
    "    # Velocities\n",
    "    v0 = data.values\n",
    "    # TODO: Return the sphere elements with updated positions\n",
    "    # Input `data` is a Field (https://tum-pbs.github.io/PhiFlow/Fields.html)\n",
    "    # Hint: Use center points of elements as initial positions\n",
    "    new_positions = ...\n",
    "    return new_positions\n",
    "\n",
    "def advect_points(points: Field, dt: float, integrator=euler) -> Field:\n",
    "    \"\"\"\n",
    "    Advects (transports) the sample points of a point cloud using a simple Euler step.\n",
    "    \"\"\"\n",
    "    # Obtain new positions using ODE integrator for solving the movement\n",
    "    # dt is the Euler step time increment\n",
    "    new_positions = integrator(points, dt)\n",
    "    # TODO: Create a copy of the points Geometry with the center at the new positions\n",
    "    # Hint: Look at methods listed in https://tum-pbs.github.io/PhiFlow/phi/geom/#phi.geom.Geometry\n",
    "    new_elements = ...\n",
    "    # Now returns a copy of this field with `elements` replaced\n",
    "    result = points.with_elements(new_elements)\n",
    "\n",
    "    return result\n",
    "\n",
    "@jit_compile\n",
    "def apply_bounds(v: Field, damping_coef=-0.50) -> Field:\n",
    "    \"\"\"\n",
    "    Applies boundary conditions to keep balls within a specified domain. \n",
    "    If a ball moves out of bounds, it is clipped to the boundary, and its velocity is damped.\n",
    "    \"\"\"\n",
    "    # Extract the radius of the balls\n",
    "    radius = v.geometry.radius \n",
    "    clipped = math.clip(v.points, domain.lower + radius, domain.upper - radius)\n",
    "    v = field.where(clipped == v.points, v, v * damping_coef)\n",
    "    # Shift the balls' positions to the clipped values (within the valid boundary)\n",
    "    return v.shifted_to(clipped)\n",
    "\n",
    "@jit_compile\n",
    "def physics_step(v: PointCloud, dt: float, elasticity=0.5) -> PointCloud:\n",
    "    \"\"\"\n",
    "    Simulates one step of point cloud physics, including advection and collision handling.\n",
    "        v: PointCloud representing the moving objects\n",
    "        dt: Time step for the simulation\n",
    "        elasticity: Coefficient of restitution to model the bounciness of the objects (1.0 = perfectly elastic, 0 = inelastic)\n",
    "    \"\"\"\n",
    "\n",
    "    # Advect the points to their next positions based on their current velocities\n",
    "    v_next = advect_points(v, dt)\n",
    "\n",
    "    \"\"\" Compute pairwise differences for collision detection \"\"\"\n",
    "    # Calculate pairwise differences between all points to detect potential collisions\n",
    "    # x_diff gives the displacement vectors between every pair of points\n",
    "    x_diff = math.pairwise_differences(v_next.points)\n",
    "\n",
    "    # Compute the distance between each pair of points using the displacement vectors\n",
    "    # eps is used to avoid NaN errors during gradient calculations with sqrt\n",
    "    dist = math.vec_length(x_diff, eps=1e-4)\n",
    "\n",
    "    # Calculate relative velocities between the pairs of points\n",
    "    rel_v = -math.pairwise_differences(v.values)\n",
    "\n",
    "    # Normalize the displacement vectors to obtain the direction of separation (or impact)\n",
    "    dist_dir = -math.safe_div(x_diff, dist)\n",
    "\n",
    "    \"\"\" Compute pairwise differences for collision detection \"\"\"\n",
    "\n",
    "    # Project the relative velocity onto the direction of the displacement (impact direction)\n",
    "    # This helps identify if the points are moving toward or away from each other\n",
    "    projected_v = dist_dir.vector * rel_v.vector\n",
    "\n",
    "    # Determine if there is an impact:\n",
    "    # - Impact occurs when the projected velocity is negative (points are moving toward each other)\n",
    "    # - The distance between the points must be less than twice their radius (indicating contact)\n",
    "    has_impact = (projected_v < 0) & (dist < 2 * v.geometry.radius)\n",
    "\n",
    "    # Calculate the impulse resulting from the collision using the elasticity coefficient\n",
    "    # The impulse adjusts the velocity of the colliding objects to simulate bouncing\n",
    "    impulse = -(1 + elasticity) * 0.5 * projected_v * dist_dir\n",
    "\n",
    "    # Compute the combined radii of the two colliding objects.\n",
    "    radius_sum = v.geometry.radius + rename_dims(v.geometry.radius, instance, dual)\n",
    "\n",
    "    # Estimate the time of impact between the points based on their projected velocities and current distances\n",
    "    impact_time = math.safe_div(dist - radius_sum, projected_v)\n",
    "\n",
    "    # Calculate the contribution of the impulse to the position change\n",
    "    #     The positions are adjusted based on the time remaining after the detected impact\n",
    "    x_inc_contrib = math.sum(\n",
    "        math.where(has_impact, math.minimum(impact_time - dt, 0) * impulse, 0), dual\n",
    "    )\n",
    "\n",
    "    # Update the positions of the points to account for any collisions\n",
    "    v = v.with_elements(v.geometry.shifted(x_inc_contrib))\n",
    "\n",
    "    # Apply the calculated impulses to the velocities of the points to reflect the collision effects\n",
    "    v += math.sum(math.where(has_impact, impulse, 0), dual)\n",
    "\n",
    "    # Advect the points again with the updated velocities to move them forward in time\n",
    "    return advect_points(v, dt)\n",
    "\n",
    "# Now, let's give the cue ball a starting velocity and run the simulation.\n",
    "v_x = 7 \n",
    "v_y = 0\n",
    "v0 = math.scatter(math.zeros(balls.shape), indices=vec(ball=0), values=vec(x=v_x, y= v_y))\n",
    "initial_state = Field(balls, v0, 0)\n",
    "trj = iterate(lambda v: apply_bounds(physics_step(v=v, dt=0.003)), batch(t=128), initial_state, substeps=2)\n",
    "plot([domain, trj.geometry], overlay='list', animate='t')"
   ]
  },
  {
   "cell_type": "markdown",
   "metadata": {},
   "source": [
    "## Learning with a Differentiable Physics"
   ]
  },
  {
   "cell_type": "markdown",
   "metadata": {},
   "source": [
    "We will learn how to make the initial shot on the cue ball to maximize the dispersion of the other balls across the table. Therefore, let us first define a loss function to quantify the dispersion.\n",
    "\n",
    "**Task 3: Implement the loss function**\n",
    "* Use L2 loss on the pairwise distances\n",
    "* The loss value for the initial position should be around 4"
   ]
  },
  {
   "cell_type": "code",
   "execution_count": null,
   "metadata": {},
   "outputs": [],
   "source": [
    "def billiards_triangle(billiard_layers=3, radius=0.05):\n",
    "    coords = []\n",
    "    for i in range(billiard_layers):\n",
    "        for j in range(i + 1):\n",
    "            coords.append(vec(x=i * 2 * radius + 0.5, y=j * 2 * radius + 0.5 - i * radius * 0.7))\n",
    "    return Sphere(stack(coords, instance('balls')), radius=radius)\n",
    "\n",
    "def loss_function(x0: Tensor, v0: Tensor, goal=vec(x=1.0, y=1.0), steps=64):\n",
    "\n",
    "    triangle_balls = PointCloud(billiards_triangle()) * (0, 0)\n",
    "    controllable_ball = PointCloud(Sphere(expand(x0, instance(triangle_balls).with_size(1)), radius=triangle_balls.geometry.radius)) * v0\n",
    "    all_balls = controllable_ball & triangle_balls\n",
    "    \n",
    "    # Simulate the physics for the specified number of steps using `physics_step`\n",
    "    trj = iterate(lambda v: apply_bounds(physics_step(v=v, dt=0.003)), batch(t=steps), all_balls)\n",
    "\n",
    "    \"\"\" Our loss function will quantify the dispersion of the balls at the end of the simulation \"\"\"\n",
    "    balls_end_positions = trj.t[-1].points\n",
    "    # TODO: Use as loss function the l2 loss of pairwise distances for the last points\n",
    "    # Hint: Leverage math module functions in https://tum-pbs.github.io/PhiML/phiml/math/index.html\n",
    "    loss = ...\n",
    "    \n",
    "    return loss, trj, all_balls\n",
    "\n",
    "output = loss_function(x0=vec(x=.1, y=.5), v0=vec(x=15, y=0))\n",
    "print('loss:', output[0])\n"
   ]
  },
  {
   "cell_type": "markdown",
   "metadata": {},
   "source": [
    "Finally, let's do gradient descent over the differentiable simulator.\n",
    "\n",
    "**Task 4: Implement the gradient step**\n",
    "* Note that we want to maximize dispersion"
   ]
  },
  {
   "cell_type": "code",
   "execution_count": null,
   "metadata": {},
   "outputs": [],
   "source": [
    "grad_fun = math.gradient(loss_function, 'x0,v0')\n",
    "learning_rate = .01\n",
    "\n",
    "x0 = vec(x=.1, y=.5)\n",
    "v0 = vec(x=15, y=0)\n",
    "\n",
    "for iter in range(50):\n",
    "    (loss, trj, balls), (_, dv0) = grad_fun(x0, v0)\n",
    "    print(f\"Iter={iter} loss={loss:.3f}  v0={v0}  ∇={dv0}\")\n",
    "    # TODO: Apply a gradient step to maximize the loss function\n",
    "    v0 += ...\n",
    "\n",
    "final_loss, trj, balls = loss_function(x0, v0)\n",
    "print(f\"Final loss: {final_loss}\")\n",
    "plot([domain, trj.geometry], overlay='list', animate='t')"
   ]
  }
 ],
 "metadata": {
  "kernelspec": {
   "display_name": "diffsim2",
   "language": "python",
   "name": "python3"
  },
  "language_info": {
   "codemirror_mode": {
    "name": "ipython",
    "version": 3
   },
   "file_extension": ".py",
   "mimetype": "text/x-python",
   "name": "python",
   "nbconvert_exporter": "python",
   "pygments_lexer": "ipython3",
   "version": "3.12.2"
  }
 },
 "nbformat": 4,
 "nbformat_minor": 4
}
